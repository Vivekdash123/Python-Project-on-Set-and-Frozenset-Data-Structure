{
 "cells": [
  {
   "cell_type": "code",
   "execution_count": 1,
   "id": "bf9f4592-0a23-49d3-8fe3-a95e2f99538b",
   "metadata": {},
   "outputs": [
    {
     "name": "stdout",
     "output_type": "stream",
     "text": [
      "Current items: {'banana', 'cherry', 'apple'}\n",
      "Current snapshot (immutable): frozenset({'banana', 'cherry', 'apple'})\n",
      "Is 'apple' in set? True\n",
      "Is 'orange' in set? False\n",
      "Current items: {'cherry', 'apple'}\n",
      "Current snapshot (immutable): frozenset({'cherry', 'apple'})\n",
      "Item 'orange' not found!\n",
      "Current items: {'cherry', 'apple'}\n",
      "Current snapshot (immutable): frozenset({'cherry', 'apple'})\n"
     ]
    }
   ],
   "source": [
    "class ItemTracker:\n",
    "    def __init__(self):\n",
    "        # Initialize the set for tracking unique items\n",
    "        self.items = set()\n",
    "        # Initialize a frozenset that will hold an immutable snapshot of items\n",
    "        self.snapshot = frozenset()\n",
    "\n",
    "    def add_item(self, item):\n",
    "        \"\"\"Add an item to the set.\"\"\"\n",
    "        self.items.add(item)\n",
    "        self.update_snapshot()\n",
    "\n",
    "    def remove_item(self, item):\n",
    "        \"\"\"Remove an item from the set if it exists.\"\"\"\n",
    "        if item in self.items:\n",
    "            self.items.remove(item)\n",
    "            self.update_snapshot()\n",
    "        else:\n",
    "            print(f\"Item '{item}' not found!\")\n",
    "\n",
    "    def check_item(self, item):\n",
    "        \"\"\"Check if an item is in the set.\"\"\"\n",
    "        return item in self.items\n",
    "\n",
    "    def update_snapshot(self):\n",
    "        \"\"\"Update the snapshot of items with the current set.\"\"\"\n",
    "        self.snapshot = frozenset(self.items)\n",
    "\n",
    "    def display_snapshot(self):\n",
    "        \"\"\"Display the current immutable snapshot of items.\"\"\"\n",
    "        print(f\"Current snapshot (immutable): {self.snapshot}\")\n",
    "\n",
    "    def display_items(self):\n",
    "        \"\"\"Display all the current items in the set.\"\"\"\n",
    "        print(f\"Current items: {self.items}\")\n",
    "\n",
    "# Example usage:\n",
    "if __name__ == \"__main__\":\n",
    "    tracker = ItemTracker()\n",
    "\n",
    "    # Add some items\n",
    "    tracker.add_item(\"apple\")\n",
    "    tracker.add_item(\"banana\")\n",
    "    tracker.add_item(\"cherry\")\n",
    "    \n",
    "    # Display the current set and snapshot\n",
    "    tracker.display_items()\n",
    "    tracker.display_snapshot()\n",
    "\n",
    "    # Check if an item exists in the set\n",
    "    print(f\"Is 'apple' in set? {tracker.check_item('apple')}\")  # True\n",
    "    print(f\"Is 'orange' in set? {tracker.check_item('orange')}\")  # False\n",
    "\n",
    "    # Remove an item\n",
    "    tracker.remove_item(\"banana\")\n",
    "    tracker.display_items()\n",
    "    tracker.display_snapshot()\n",
    "\n",
    "    # Attempting to remove an item that doesn't exist\n",
    "    tracker.remove_item(\"orange\")\n",
    "\n",
    "    # Display the final state\n",
    "    tracker.display_items()\n",
    "    tracker.display_snapshot()"
   ]
  }
 ],
 "metadata": {
  "kernelspec": {
   "display_name": "Python 3 (ipykernel)",
   "language": "python",
   "name": "python3"
  },
  "language_info": {
   "codemirror_mode": {
    "name": "ipython",
    "version": 3
   },
   "file_extension": ".py",
   "mimetype": "text/x-python",
   "name": "python",
   "nbconvert_exporter": "python",
   "pygments_lexer": "ipython3",
   "version": "3.12.3"
  }
 },
 "nbformat": 4,
 "nbformat_minor": 5
}
